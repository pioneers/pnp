{
 "metadata": {
  "name": "PnP Eagle Parsing"
 },
 "nbformat": 3,
 "nbformat_minor": 0,
 "worksheets": [
  {
   "cells": [
    {
     "cell_type": "code",
     "collapsed": false,
     "input": [
      "% cd /home/nikita/dev/pie/pie-electrical/Koala_Bear/"
     ],
     "language": "python",
     "metadata": {},
     "outputs": [
      {
       "output_type": "stream",
       "stream": "stdout",
       "text": [
        "/home/nikita/dev/pie/pie-electrical/Koala_Bear\n"
       ]
      }
     ],
     "prompt_number": 1
    },
    {
     "cell_type": "code",
     "collapsed": false,
     "input": [
      "import os, sys"
     ],
     "language": "python",
     "metadata": {},
     "outputs": [],
     "prompt_number": 2
    },
    {
     "cell_type": "code",
     "collapsed": false,
     "input": [
      "from cStringIO import StringIO"
     ],
     "language": "python",
     "metadata": {},
     "outputs": [],
     "prompt_number": 19
    },
    {
     "cell_type": "code",
     "collapsed": false,
     "input": [
      "from pyquery import PyQuery as pq\n",
      "import pyquery"
     ],
     "language": "python",
     "metadata": {},
     "outputs": [],
     "prompt_number": 10
    },
    {
     "cell_type": "code",
     "collapsed": false,
     "input": [
      "def pq_set(self, **kwargs):\n",
      "    for k, v in kwargs.items():\n",
      "        self.attr(k, str(v))\n",
      "#pq.set = types.MethodType(pq_set, pq)\n",
      "pq.set = pq_set"
     ],
     "language": "python",
     "metadata": {},
     "outputs": [],
     "prompt_number": 204
    },
    {
     "cell_type": "code",
     "collapsed": false,
     "input": [
      "def pq_get(self, *args, **kwargs):\n",
      "    res = []\n",
      "    for k in args:\n",
      "        res.append(self.attr(k))\n",
      "    for k, v in kwargs.items():\n",
      "        val = self.attr(k)\n",
      "        if val is None:\n",
      "            val = v\n",
      "        res.append(val)\n",
      "    if len(res) == 1:\n",
      "        return res[0]\n",
      "    return res\n",
      "pq.get = pq_get"
     ],
     "language": "python",
     "metadata": {},
     "outputs": [],
     "prompt_number": 220
    },
    {
     "cell_type": "code",
     "collapsed": false,
     "input": [
      "from IPython.display import SVG"
     ],
     "language": "python",
     "metadata": {},
     "outputs": [],
     "prompt_number": 175
    },
    {
     "cell_type": "code",
     "collapsed": false,
     "input": [
      "el = pyquery.pyquery.fromstring(open(\"Koala_Bear.brd\"))\n",
      "q = pq(el)"
     ],
     "language": "python",
     "metadata": {},
     "outputs": [],
     "prompt_number": 62
    },
    {
     "cell_type": "code",
     "collapsed": false,
     "input": [
      "q('library')"
     ],
     "language": "python",
     "metadata": {},
     "outputs": [
      {
       "output_type": "pyout",
       "prompt_number": 78,
       "text": [
        "[<library>, <library>, <library>, <library>, <library>, <library>]"
       ]
      }
     ],
     "prompt_number": 78
    },
    {
     "cell_type": "code",
     "collapsed": false,
     "input": [
      "for library in q('library'):\n",
      "    lib_name = library.attrib[\"name\"]\n",
      "    for package in pq(library)('package'):\n",
      "        package_name = package.attrib[\"name\"]\n",
      "        print \"Library {} has package {}\".format(lib_name, package_name)"
     ],
     "language": "python",
     "metadata": {},
     "outputs": [
      {
       "output_type": "stream",
       "stream": "stdout",
       "text": [
        "Library LMZ12010 has package LMZ12010\n",
        "Library SparkFun has package 1206\n",
        "Library SparkFun has package SOD-323\n",
        "Library SparkFun has package STAND-OFF\n",
        "Library TANT_CASE_E has package TANT_CASE_E\n",
        "Library pie has package 0603-CAP\n",
        "Library pie has package R0603\n",
        "Library pie has package 1X05-MTA\n",
        "Library pie has package 1X02\n",
        "Library pie has package OSHW-LOGO-L\n",
        "Library stand_off_servoc has package STAND_OFF_SERVOC\n",
        "Library pie_new has package XT60CONNECTOR\n",
        "Library pie_new has package PIE-LOGO-SMALL\n",
        "Library pie_new has package 1X04-MTA\n"
       ]
      }
     ],
     "prompt_number": 83
    },
    {
     "cell_type": "code",
     "collapsed": false,
     "input": [
      "q('library[name=\"SparkFun\"] package[name=\"SOD-323\"]')"
     ],
     "language": "python",
     "metadata": {},
     "outputs": [
      {
       "output_type": "pyout",
       "prompt_number": 89,
       "text": [
        "[<package>]"
       ]
      }
     ],
     "prompt_number": 89
    },
    {
     "cell_type": "code",
     "collapsed": false,
     "input": [
      "pq(\"<path d=''>\")"
     ],
     "language": "python",
     "metadata": {},
     "outputs": [
      {
       "output_type": "pyout",
       "prompt_number": 99,
       "text": [
        "[<path>]"
       ]
      }
     ],
     "prompt_number": 99
    },
    {
     "cell_type": "code",
     "collapsed": false,
     "input": [
      "_99.attr[\"a\"]"
     ],
     "language": "python",
     "metadata": {},
     "outputs": [],
     "prompt_number": 102
    },
    {
     "cell_type": "code",
     "collapsed": false,
     "input": [
      "pq(\"<svg name=1>\").append(pq(\"<test>\"))"
     ],
     "language": "python",
     "metadata": {},
     "outputs": [
      {
       "output_type": "pyout",
       "prompt_number": 161,
       "text": [
        "[<svg>]"
       ]
      }
     ],
     "prompt_number": 161
    },
    {
     "cell_type": "code",
     "collapsed": false,
     "input": [
      "svg = pq(\"<svg>\")\n",
      "#svg.set(width=500, height=200, transform=\"scale(5,-5) translate(0, -40)\")\n",
      "svg.set(width=500, height=300, transform=\"matrix(5,0,0,-5,0,250)\", style=\"background: black\")\n",
      "# wires\n",
      "for wire in q('signals wire[layer=\"1\"]'):\n",
      "    el = pq(\"<path/>\")\n",
      "    x1 = pq(wire).attr[\"x1\"]\n",
      "    x2 = pq(wire).attr[\"x2\"]\n",
      "    y1 = pq(wire).attr[\"y1\"]\n",
      "    y2 = pq(wire).attr[\"y2\"]\n",
      "    width = pq(wire).attr[\"width\"]\n",
      "    el.set(d=\"M {} {} L {} {}\".format(x1, y1, x2, y2))\n",
      "    el.set(style='stroke-width: {}px; stroke: #8D2323; stroke-linecap:round; fill:none'.format(width))\n",
      "    svg.append(el)\n",
      "\"\"\"\n",
      "for polygon in q('signals polygon[layer=\"1\"]'):\n",
      "    el = pq(\"<path>\")\n",
      "    width = el.get(\"width\")\n",
      "    el.set(style=\"stroke-width: {}px; stroke: #000000; fill:none\".format(width))\n",
      "    d = \"\"\n",
      "    for vertex in pq(polygon)(\"vertex\"):\n",
      "        x, y = pq(vertex).get(\"x\", \"y\")\n",
      "        d += \"L {} {}\".format(x, y)\n",
      "    el.set(d=\"M\" + d[1:])\n",
      "    svg.append(el)\n",
      "\"\"\""
     ],
     "language": "python",
     "metadata": {},
     "outputs": [
      {
       "output_type": "pyout",
       "prompt_number": 509,
       "text": [
        "'\\nfor polygon in q(\\'signals polygon[layer=\"1\"]\\'):\\n    el = pq(\"<path>\")\\n    width = el.get(\"width\")\\n    el.set(style=\"stroke-width: {}px; stroke: #000000; fill:none\".format(width))\\n    d = \"\"\\n    for vertex in pq(polygon)(\"vertex\"):\\n        x, y = pq(vertex).get(\"x\", \"y\")\\n        d += \"L {} {}\".format(x, y)\\n    el.set(d=\"M\" + d[1:])\\n    svg.append(el)\\n'"
       ]
      }
     ],
     "prompt_number": 509
    },
    {
     "cell_type": "code",
     "collapsed": false,
     "input": [
      "def rotate(el, rot):\n",
      "    if rot is None or rot == 0:\n",
      "        return\n",
      "    try:\n",
      "        rot = int(rot[1:])\n",
      "    except ValueError:\n",
      "        rot = int(rot[2:])\n",
      "    t = el.get(transform=\"\")\n",
      "    el.set(transform=t +\" rotate({})\".format(rot))"
     ],
     "language": "python",
     "metadata": {},
     "outputs": [],
     "prompt_number": 510
    },
    {
     "cell_type": "code",
     "collapsed": false,
     "input": [
      "for element in q('elements element'):\n",
      "    library, package, x, y, rot = pq(element).get(\"library\", \"package\", \"x\", \"y\", rot=\"R0\")\n",
      "    \n",
      "    g = pq(\"<g>\")\n",
      "    g.set(transform=\"translate({}, {})\".format(x, y))\n",
      "    rotate(g, rot)\n",
      "    \n",
      "    reference = q('libraries library[name=\"{}\"] packages package[name=\"{}\"]'.format(library, package))\n",
      "    for wire in reference('wire[layer=\"1\"]'):\n",
      "        x1, x2, y1, y2, width = pq(wire).get(\"x1\", \"x2\", \"y1\", \"y2\", \"width\")\n",
      "        el = pq(\"<path>\")\n",
      "        el.set(d=\"M {} {} L {} {}\".format(x1, y1, x2, y2))\n",
      "        el.set(style='stroke-width: {}px; stroke:#000000; stroke-linecap:round'.format(width))\n",
      "        g.append(el)\n",
      "    for smd in reference('smd[layer=\"1\"]'):\n",
      "        xx, yy, dx, dy, rot = pq(smd).get(\"x\", \"y\", \"dx\", \"dy\", rot=\"R0\")\n",
      "        el = pq(\"<rect>\")\n",
      "        rotate(el, rot)\n",
      "        el.set(x=float(xx)-float(dx)/2.0, y=float(yy)-float(dy)/2.0, width=dx, height=dy)\n",
      "        el.set(style='fill:#8D2323')\n",
      "        el.set(name=reference.get(\"name\"))\n",
      "        g.append(el)\n",
      "    for pad in reference('pad'):\n",
      "        x, y, diameter, drill, rot = pq(pad).get(\"x\", \"y\", \"diameter\", \"drill\", rot=\"R0\")\n",
      "        el = pq(\"<circle>\")\n",
      "        #rotate(el, rot)\n",
      "        el.set(cx=x, cy=y, r=float(diameter)/2.0)\n",
      "        stroke_width = (float(diameter) - float(drill)) / 2.0\n",
      "        el.set(style='stroke:#238D23; stroke-width:{}px; fill:none'.format(stroke_width))\n",
      "        g.append(el)\n",
      "    svg.append(g)"
     ],
     "language": "python",
     "metadata": {},
     "outputs": [],
     "prompt_number": 511
    },
    {
     "cell_type": "code",
     "collapsed": false,
     "input": [
      "SVG(str(svg))"
     ],
     "language": "python",
     "metadata": {},
     "outputs": [
      {
       "output_type": "pyout",
       "prompt_number": 512,
       "svg": [
        "<svg height=\"300\" style=\"background: black\" transform=\"matrix(5,0,0,-5,0,250)\" width=\"500\"><path d=\"M 19.93 19.64 L 19.93 16.555\" style=\"stroke-width: 0.4064px; stroke: #8D2323; stroke-linecap:round; fill:none\"/><path d=\"M 19.93 16.555 L 20.345 16.14\" style=\"stroke-width: 0.4064px; stroke: #8D2323; stroke-linecap:round; fill:none\"/><path d=\"M 19.93 19.64 L 19.93 21.53\" style=\"stroke-width: 0.4064px; stroke: #8D2323; stroke-linecap:round; fill:none\"/><path d=\"M 19.93 21.53 L 20.3 21.9\" style=\"stroke-width: 0.4064px; stroke: #8D2323; stroke-linecap:round; fill:none\"/><path d=\"M 20.3 21.9 L 20.3 23.5588\" style=\"stroke-width: 0.4064px; stroke: #8D2323; stroke-linecap:round; fill:none\"/><path d=\"M 24.025 28.24 L 23.325 27.54\" style=\"stroke-width: 1.27px; stroke: #8D2323; stroke-linecap:round; fill:none\"/><path d=\"M 10.11 27.69 L 16 27.69\" style=\"stroke-width: 1.27px; stroke: #8D2323; stroke-linecap:round; fill:none\"/><path d=\"M 16 27.69 L 16.59 27.69\" style=\"stroke-width: 1.27px; stroke: #8D2323; stroke-linecap:round; fill:none\"/><path d=\"M 16.59 27.69 L 16.95 28.05\" style=\"stroke-width: 1.27px; stroke: #8D2323; stroke-linecap:round; fill:none\"/><path d=\"M 16.95 28.05 L 17.3 28.4\" style=\"stroke-width: 1.27px; stroke: #8D2323; stroke-linecap:round; fill:none\"/><path d=\"M 19 23.5888 L 19 28.2\" style=\"stroke-width: 1.016px; stroke: #8D2323; stroke-linecap:round; fill:none\"/><path d=\"M 19 28.2 L 18.8 28.4\" style=\"stroke-width: 1.016px; stroke: #8D2323; stroke-linecap:round; fill:none\"/><path d=\"M 20.27 33.19 L 20.27 39.40721875\" style=\"stroke-width: 1.016px; stroke: #8D2323; stroke-linecap:round; fill:none\"/><path d=\"M 20.27 39.40721875 L 20.325 39.54\" style=\"stroke-width: 1.016px; stroke: #8D2323; stroke-linecap:round; fill:none\"/><path d=\"M 16.46 23.5888 L 16.46 27.56\" style=\"stroke-width: 1.016px; stroke: #8D2323; stroke-linecap:round; fill:none\"/><path d=\"M 16.46 27.56 L 16.95 28.05\" style=\"stroke-width: 1.016px; stroke: #8D2323; stroke-linecap:round; fill:none\"/><path d=\"M 15.825 27.54 L 15.85 27.54\" style=\"stroke-width: 1.016px; stroke: #8D2323; stroke-linecap:round; fill:none\"/><path d=\"M 15.85 27.54 L 16 27.69\" style=\"stroke-width: 1.016px; stroke: #8D2323; stroke-linecap:round; fill:none\"/><path d=\"M 19 23.5888 L 20.27 23.5888\" style=\"stroke-width: 1.016px; stroke: #8D2323; stroke-linecap:round; fill:none\"/><path d=\"M 23.11 30.11 L 23 30\" style=\"stroke-width: 1.016px; stroke: #8D2323; stroke-linecap:round; fill:none\"/><path d=\"M 26.8 17.9 L 26.8 19.47\" style=\"stroke-width: 0.4064px; stroke: #8D2323; stroke-linecap:round; fill:none\"/><path d=\"M 26.8 19.47 L 26.88 19.55\" style=\"stroke-width: 0.4064px; stroke: #8D2323; stroke-linecap:round; fill:none\"/><path d=\"M 34.51 30.11 L 30.96 30.11\" style=\"stroke-width: 1.016px; stroke: #8D2323; stroke-linecap:round; fill:none\"/><path d=\"M 30.96 30.11 L 30.73 30.34\" style=\"stroke-width: 1.016px; stroke: #8D2323; stroke-linecap:round; fill:none\"/><path d=\"M 30.73 30.34 L 23.525 30.34\" style=\"stroke-width: 1.016px; stroke: #8D2323; stroke-linecap:round; fill:none\"/><path d=\"M 23.525 30.34 L 23.325 30.54\" style=\"stroke-width: 1.016px; stroke: #8D2323; stroke-linecap:round; fill:none\"/><path d=\"M 26.8 17.9 L 26.8 17.8\" style=\"stroke-width: 0.4064px; stroke: #8D2323; stroke-linecap:round; fill:none\"/><path d=\"M 26.8 17.8 L 26.3 17.3\" style=\"stroke-width: 0.4064px; stroke: #8D2323; stroke-linecap:round; fill:none\"/><path d=\"M 26.3 17.3 L 25.6 17.3\" style=\"stroke-width: 0.4064px; stroke: #8D2323; stroke-linecap:round; fill:none\"/><path d=\"M 25.6 17.3 L 25.3 17\" style=\"stroke-width: 0.4064px; stroke: #8D2323; stroke-linecap:round; fill:none\"/><path d=\"M 25.3 17 L 25.3 16.36\" style=\"stroke-width: 0.4064px; stroke: #8D2323; stroke-linecap:round; fill:none\"/><path d=\"M 25.3 16.36 L 25.19 16.25\" style=\"stroke-width: 0.4064px; stroke: #8D2323; stroke-linecap:round; fill:none\"/><path d=\"M 26.62 23.5888 L 25.35 23.5888\" style=\"stroke-width: 0.4064px; stroke: #8D2323; stroke-linecap:round; fill:none\"/><path d=\"M 30.31 20.3 L 33.785 20.3\" style=\"stroke-width: 0.4064px; stroke: #8D2323; stroke-linecap:round; fill:none\"/><path d=\"M 26.62 23.5888 L 28.5888 23.5888\" style=\"stroke-width: 1.016px; stroke: #8D2323; stroke-linecap:round; fill:none\"/><path d=\"M 28.5888 23.5888 L 29 24\" style=\"stroke-width: 1.016px; stroke: #8D2323; stroke-linecap:round; fill:none\"/><path d=\"M 30.31 18.6 L 33.785 18.6\" style=\"stroke-width: 0.4064px; stroke: #8D2323; stroke-linecap:round; fill:none\"/><path d=\"M 21.54 23.5888 L 21.54 21.66\" style=\"stroke-width: 0.4064px; stroke: #8D2323; stroke-linecap:round; fill:none\"/><path d=\"M 21.54 21.66 L 21.8 21.4\" style=\"stroke-width: 0.4064px; stroke: #8D2323; stroke-linecap:round; fill:none\"/><path d=\"M 28.3 20.9 L 28.3 19.9\" style=\"stroke-width: 0.4064px; stroke: #8D2323; stroke-linecap:round; fill:none\"/><path d=\"M 28.3 19.9 L 29.3 18.9\" style=\"stroke-width: 0.4064px; stroke: #8D2323; stroke-linecap:round; fill:none\"/><path d=\"M 29.3 18.9 L 30.01 18.9\" style=\"stroke-width: 0.4064px; stroke: #8D2323; stroke-linecap:round; fill:none\"/><path d=\"M 30.01 18.9 L 30.31 18.6\" style=\"stroke-width: 0.4064px; stroke: #8D2323; stroke-linecap:round; fill:none\"/><path d=\"M 26.89 16.25 L 29.25 16.25\" style=\"stroke-width: 0.4064px; stroke: #8D2323; stroke-linecap:round; fill:none\"/><path d=\"M 29.25 16.25 L 30 17\" style=\"stroke-width: 0.4064px; stroke: #8D2323; stroke-linecap:round; fill:none\"/><path d=\"M 30 17 L 30 18.29\" style=\"stroke-width: 0.4064px; stroke: #8D2323; stroke-linecap:round; fill:none\"/><path d=\"M 30 18.29 L 30.31 18.6\" style=\"stroke-width: 0.4064px; stroke: #8D2323; stroke-linecap:round; fill:none\"/><path d=\"M 22.81 23.5888 L 22.81 22.39\" style=\"stroke-width: 0.4064px; stroke: #8D2323; stroke-linecap:round; fill:none\"/><path d=\"M 22.81 22.39 L 25.3 19.9\" style=\"stroke-width: 0.4064px; stroke: #8D2323; stroke-linecap:round; fill:none\"/><path d=\"M 25.3 19.9 L 25.3 19.67\" style=\"stroke-width: 0.4064px; stroke: #8D2323; stroke-linecap:round; fill:none\"/><path d=\"M 25.3 19.67 L 25.18 19.55\" style=\"stroke-width: 0.4064px; stroke: #8D2323; stroke-linecap:round; fill:none\"/><path d=\"M 22.04 12.95 L 22.04 16.135\" style=\"stroke-width: 0.4064px; stroke: #8D2323; stroke-linecap:round; fill:none\"/><path d=\"M 22.04 16.135 L 22.045 16.14\" style=\"stroke-width: 0.4064px; stroke: #8D2323; stroke-linecap:round; fill:none\"/><path d=\"M 22.23 19.64 L 22.23 16.325\" style=\"stroke-width: 0.4064px; stroke: #8D2323; stroke-linecap:round; fill:none\"/><path d=\"M 22.23 16.325 L 22.045 16.14\" style=\"stroke-width: 0.4064px; stroke: #8D2323; stroke-linecap:round; fill:none\"/><path d=\"M 26.95 12.95 L 26.95 13.75\" style=\"stroke-width: 0.4064px; stroke: #8D2323; stroke-linecap:round; fill:none\"/><path d=\"M 26.95 13.75 L 26.6 14.1\" style=\"stroke-width: 0.4064px; stroke: #8D2323; stroke-linecap:round; fill:none\"/><path d=\"M 26.6 14.1 L 24.085 14.1\" style=\"stroke-width: 0.4064px; stroke: #8D2323; stroke-linecap:round; fill:none\"/><path d=\"M 24.085 14.1 L 22.045 16.14\" style=\"stroke-width: 0.4064px; stroke: #8D2323; stroke-linecap:round; fill:none\"/><path d=\"M 25.25 12.95 L 23.85 12.95\" style=\"stroke-width: 0.4064px; stroke: #8D2323; stroke-linecap:round; fill:none\"/><path d=\"M 23.85 12.95 L 23.8 13\" style=\"stroke-width: 0.4064px; stroke: #8D2323; stroke-linecap:round; fill:none\"/><path d=\"M 18 21 L 18 23.3188\" style=\"stroke-width: 0.4064px; stroke: #8D2323; stroke-linecap:round; fill:none\"/><path d=\"M 18 23.3188 L 17.73 23.5888\" style=\"stroke-width: 0.4064px; stroke: #8D2323; stroke-linecap:round; fill:none\"/><path d=\"M 32.3 7.76 L 32.3 9.3\" style=\"stroke-width: 0.4064px; stroke: #8D2323; stroke-linecap:round; fill:none\"/><path d=\"M 32.3 9.3 L 37 14\" style=\"stroke-width: 0.4064px; stroke: #8D2323; stroke-linecap:round; fill:none\"/><path d=\"M 37 14 L 37 22.1\" style=\"stroke-width: 0.4064px; stroke: #8D2323; stroke-linecap:round; fill:none\"/><path d=\"M 37 22.1 L 41.3 26.4\" style=\"stroke-width: 0.4064px; stroke: #8D2323; stroke-linecap:round; fill:none\"/><path d=\"M 34.84 7.76 L 34.84 9.84\" style=\"stroke-width: 0.4064px; stroke: #8D2323; stroke-linecap:round; fill:none\"/><path d=\"M 34.84 9.84 L 39 14\" style=\"stroke-width: 0.4064px; stroke: #8D2323; stroke-linecap:round; fill:none\"/><path d=\"M 39 14 L 39 21.56\" style=\"stroke-width: 0.4064px; stroke: #8D2323; stroke-linecap:round; fill:none\"/><path d=\"M 39 21.56 L 41.3 23.86\" style=\"stroke-width: 0.4064px; stroke: #8D2323; stroke-linecap:round; fill:none\"/><path d=\"M 37.38 7.76 L 37.38 10.38\" style=\"stroke-width: 0.4064px; stroke: #8D2323; stroke-linecap:round; fill:none\"/><path d=\"M 37.38 10.38 L 41 14\" style=\"stroke-width: 0.4064px; stroke: #8D2323; stroke-linecap:round; fill:none\"/><path d=\"M 41 14 L 41 21.02\" style=\"stroke-width: 0.4064px; stroke: #8D2323; stroke-linecap:round; fill:none\"/><path d=\"M 41 21.02 L 41.3 21.32\" style=\"stroke-width: 0.4064px; stroke: #8D2323; stroke-linecap:round; fill:none\"/><g transform=\"translate(20.27, 33.19) rotate(0)\"><rect height=\"9.1186\" name=\"LMZ12010\" style=\"fill:#8D2323\" transform=\" rotate(90)\" width=\"13.3604\" x=\"-6.6802\" y=\"-4.5593\"/><rect height=\"2.410459375\" name=\"LMZ12010\" style=\"fill:#8D2323\" transform=\" rotate(0)\" width=\"0.861059375\" x=\"-0.4305296875\" y=\"-10.8064296875\"/><rect height=\"2.410459375\" name=\"LMZ12010\" style=\"fill:#8D2323\" transform=\" rotate(0)\" width=\"0.861059375\" x=\"0.8394703125\" y=\"-10.8064296875\"/><rect height=\"2.410459375\" name=\"LMZ12010\" style=\"fill:#8D2323\" transform=\" rotate(0)\" width=\"0.861059375\" x=\"2.1094703125\" y=\"-10.8064296875\"/><rect height=\"2.410459375\" name=\"LMZ12010\" style=\"fill:#8D2323\" transform=\" rotate(0)\" width=\"0.861059375\" x=\"3.3794703125\" y=\"-10.8064296875\"/><rect height=\"2.410459375\" name=\"LMZ12010\" style=\"fill:#8D2323\" transform=\" rotate(0)\" width=\"0.861059375\" x=\"4.6494703125\" y=\"-10.8064296875\"/><rect height=\"2.410459375\" name=\"LMZ12010\" style=\"fill:#8D2323\" transform=\" rotate(0)\" width=\"0.861059375\" x=\"-1.7005296875\" y=\"-10.8064296875\"/><rect height=\"2.410459375\" name=\"LMZ12010\" style=\"fill:#8D2323\" transform=\" rotate(0)\" width=\"0.861059375\" x=\"-2.9705296875\" y=\"-10.8064296875\"/><rect height=\"2.410459375\" name=\"LMZ12010\" style=\"fill:#8D2323\" transform=\" rotate(0)\" width=\"0.861059375\" x=\"-4.2405296875\" y=\"-10.8064296875\"/><rect height=\"2.410459375\" name=\"LMZ12010\" style=\"fill:#8D2323\" transform=\" rotate(0)\" width=\"0.861059375\" x=\"-5.5105296875\" y=\"-10.8064296875\"/><rect height=\"2.410459375\" name=\"LMZ12010\" style=\"fill:#8D2323\" transform=\" rotate(0)\" width=\"0.861059375\" x=\"-6.7805296875\" y=\"-10.8064296875\"/><rect height=\"2.410459375\" name=\"LMZ12010\" style=\"fill:#8D2323\" transform=\" rotate(0)\" width=\"0.861059375\" x=\"5.9194703125\" y=\"-10.8064296875\"/></g><g transform=\"translate(21.19, 12.95) rotate(180)\"><rect height=\"1.1\" name=\"R0603\" style=\"fill:#8D2323\" transform=\" rotate(0)\" width=\"1\" x=\"-1.35\" y=\"-0.55\"/><rect height=\"1.1\" name=\"R0603\" style=\"fill:#8D2323\" transform=\" rotate(0)\" width=\"1\" x=\"0.35\" y=\"-0.55\"/></g><g transform=\"translate(21.195, 16.14) rotate(0)\"><rect height=\"1.1\" name=\"R0603\" style=\"fill:#8D2323\" transform=\" rotate(0)\" width=\"1\" x=\"-1.35\" y=\"-0.55\"/><rect height=\"1.1\" name=\"R0603\" style=\"fill:#8D2323\" transform=\" rotate(0)\" width=\"1\" x=\"0.35\" y=\"-0.55\"/></g><g transform=\"translate(30.31, 19.45) rotate(90)\"><rect height=\"1.1\" name=\"R0603\" style=\"fill:#8D2323\" transform=\" rotate(0)\" width=\"1\" x=\"-1.35\" y=\"-0.55\"/><rect height=\"1.1\" name=\"R0603\" style=\"fill:#8D2323\" transform=\" rotate(0)\" width=\"1\" x=\"0.35\" y=\"-0.55\"/></g><g transform=\"translate(26.04, 16.25) rotate(180)\"><rect height=\"1.1\" name=\"R0603\" style=\"fill:#8D2323\" transform=\" rotate(0)\" width=\"1\" x=\"-1.35\" y=\"-0.55\"/><rect height=\"1.1\" name=\"R0603\" style=\"fill:#8D2323\" transform=\" rotate(0)\" width=\"1\" x=\"0.35\" y=\"-0.55\"/></g><g transform=\"translate(33.785, 19.45) rotate(270)\"><rect height=\"1\" name=\"0603-CAP\" style=\"fill:#8D2323\" transform=\" rotate(0)\" width=\"1.1\" x=\"-1.4\" y=\"-0.5\"/><rect height=\"1\" name=\"0603-CAP\" style=\"fill:#8D2323\" transform=\" rotate(0)\" width=\"1.1\" x=\"0.3\" y=\"-0.5\"/></g><g transform=\"translate(26.03, 19.55) rotate(0)\"><rect height=\"1\" name=\"0603-CAP\" style=\"fill:#8D2323\" transform=\" rotate(0)\" width=\"1.1\" x=\"-1.4\" y=\"-0.5\"/><rect height=\"1\" name=\"0603-CAP\" style=\"fill:#8D2323\" transform=\" rotate(0)\" width=\"1.1\" x=\"0.3\" y=\"-0.5\"/></g><g transform=\"translate(10.11, 26.84) rotate(90)\"><rect height=\"1\" name=\"0603-CAP\" style=\"fill:#8D2323\" transform=\" rotate(0)\" width=\"1.1\" x=\"-1.4\" y=\"-0.5\"/><rect height=\"1\" name=\"0603-CAP\" style=\"fill:#8D2323\" transform=\" rotate(0)\" width=\"1.1\" x=\"0.3\" y=\"-0.5\"/></g><g transform=\"translate(30.73, 28.94) rotate(90)\"><rect height=\"1.8\" name=\"1206\" style=\"fill:#8D2323\" transform=\" rotate(0)\" width=\"1.6\" x=\"-2.2\" y=\"-0.9\"/><rect height=\"1.8\" name=\"1206\" style=\"fill:#8D2323\" transform=\" rotate(0)\" width=\"1.6\" x=\"0.6\" y=\"-0.9\"/></g><g transform=\"translate(21.08, 19.64) rotate(180)\"><rect height=\"0.83\" name=\"SOD-323\" style=\"fill:#8D2323\" transform=\" rotate(0)\" width=\"0.63\" x=\"-1.465\" y=\"-0.415\"/><rect height=\"0.83\" name=\"SOD-323\" style=\"fill:#8D2323\" transform=\" rotate(0)\" width=\"0.63\" x=\"0.835\" y=\"-0.415\"/></g><g transform=\"translate(34.51, 27.11) rotate(90)\"><rect height=\"3\" name=\"TANT_CASE_E\" style=\"fill:#8D2323\" transform=\" rotate(0)\" width=\"2\" x=\"-4.0\" y=\"-1.5\"/><rect height=\"3\" name=\"TANT_CASE_E\" style=\"fill:#8D2323\" transform=\" rotate(0)\" width=\"2\" x=\"2.0\" y=\"-1.5\"/></g><g transform=\"translate(26.1, 12.95) rotate(180)\"><rect height=\"1.1\" name=\"R0603\" style=\"fill:#8D2323\" transform=\" rotate(0)\" width=\"1\" x=\"-1.35\" y=\"-0.55\"/><rect height=\"1.1\" name=\"R0603\" style=\"fill:#8D2323\" transform=\" rotate(0)\" width=\"1\" x=\"0.35\" y=\"-0.55\"/></g><g transform=\"translate(33.57, 7.76) rotate(0)\"><circle cx=\"-3.81\" cy=\"0\" r=\"0.9398\" style=\"stroke:#238D23; stroke-width:0.4318px; fill:none\"/><circle cx=\"-1.27\" cy=\"0\" r=\"0.9398\" style=\"stroke:#238D23; stroke-width:0.4318px; fill:none\"/><circle cx=\"1.27\" cy=\"0\" r=\"0.9398\" style=\"stroke:#238D23; stroke-width:0.4318px; fill:none\"/><circle cx=\"3.81\" cy=\"0\" r=\"0.9398\" style=\"stroke:#238D23; stroke-width:0.4318px; fill:none\"/></g><g transform=\"translate(9.65, 20.25) rotate(270)\"><circle cx=\"4.572\" cy=\"4.064\" r=\"3.048\" style=\"stroke:#238D23; stroke-width:0.762px; fill:none\"/><circle cx=\"11.684\" cy=\"4.064\" r=\"3.048\" style=\"stroke:#238D23; stroke-width:0.762px; fill:none\"/></g><g transform=\"translate(57.1, 6.3) rotate(0)\"/><g transform=\"translate(31.7, 38.1) rotate(0)\"/><g transform=\"translate(25.4, 6.3) rotate(0)\"/><g transform=\"translate(58.5, 25.09) rotate(0)\"/><g transform=\"translate(41.8, 39.82) rotate(0)\"/><g transform=\"translate(41.3, 26.4) rotate(90)\"><circle cx=\"-5.08\" cy=\"0\" r=\"0.9398\" style=\"stroke:#238D23; stroke-width:0.4318px; fill:none\"/><circle cx=\"-2.54\" cy=\"0\" r=\"0.9398\" style=\"stroke:#238D23; stroke-width:0.4318px; fill:none\"/><circle cx=\"0\" cy=\"0\" r=\"0.9398\" style=\"stroke:#238D23; stroke-width:0.4318px; fill:none\"/><circle cx=\"2.54\" cy=\"0\" r=\"0.9398\" style=\"stroke:#238D23; stroke-width:0.4318px; fill:none\"/><circle cx=\"5.08\" cy=\"0\" r=\"0.9398\" style=\"stroke:#238D23; stroke-width:0.4318px; fill:none\"/></g><g transform=\"translate(60, 14.005) rotate(90)\"><circle cx=\"0\" cy=\"0\" r=\"0.9398\" style=\"stroke:#238D23; stroke-width:0.4318px; fill:none\"/><circle cx=\"2.54\" cy=\"0\" r=\"0.9398\" style=\"stroke:#238D23; stroke-width:0.4318px; fill:none\"/></g><g transform=\"translate(63.8, 7.85) rotate(180)\"><circle cx=\"0\" cy=\"0\" r=\"0.9398\" style=\"stroke:#238D23; stroke-width:0.4318px; fill:none\"/><circle cx=\"2.54\" cy=\"0\" r=\"0.9398\" style=\"stroke:#238D23; stroke-width:0.4318px; fill:none\"/></g><g transform=\"translate(55.1, 39.07) rotate(0)\"/><g transform=\"translate(41.73, 8.82) rotate(0)\"/><g transform=\"translate(33, 31) rotate(270)\"/><g transform=\"translate(57, 32) rotate(270)\"/></svg>"
       ],
       "text": [
        "<IPython.core.display.SVG at 0x5455e90>"
       ]
      }
     ],
     "prompt_number": 512
    },
    {
     "cell_type": "code",
     "collapsed": false,
     "input": [],
     "language": "python",
     "metadata": {},
     "outputs": []
    },
    {
     "cell_type": "code",
     "collapsed": false,
     "input": [],
     "language": "python",
     "metadata": {},
     "outputs": []
    },
    {
     "cell_type": "code",
     "collapsed": false,
     "input": [
      "with open(\"/home/nikita/z/sample-svg.svg\", \"w\") as f:\n",
      "    f.write(str(svg))"
     ],
     "language": "python",
     "metadata": {},
     "outputs": [],
     "prompt_number": 513
    },
    {
     "cell_type": "code",
     "collapsed": false,
     "input": [
      "ip = get_ipython()"
     ],
     "language": "python",
     "metadata": {},
     "outputs": [],
     "prompt_number": 92
    },
    {
     "cell_type": "code",
     "collapsed": false,
     "input": [
      "f = ip.display_formatter.formatters[\"image/svg+xml\"]"
     ],
     "language": "python",
     "metadata": {},
     "outputs": [],
     "prompt_number": 95
    },
    {
     "cell_type": "code",
     "collapsed": false,
     "input": [
      "from IPython.display import SVG"
     ],
     "language": "python",
     "metadata": {},
     "outputs": [],
     "prompt_number": 96
    },
    {
     "cell_type": "code",
     "collapsed": false,
     "input": [
      "class SVG():\n",
      "    def __init__(self, s):\n",
      "        self.s = s\n",
      "def display_svg(svg):\n",
      "    return svg."
     ],
     "language": "python",
     "metadata": {},
     "outputs": []
    },
    {
     "cell_type": "code",
     "collapsed": false,
     "input": [
      "for library in q('library'):\n",
      "    "
     ],
     "language": "python",
     "metadata": {},
     "outputs": []
    },
    {
     "cell_type": "code",
     "collapsed": false,
     "input": [
      "for element in q('elements').children():\n",
      "    pass"
     ],
     "language": "python",
     "metadata": {},
     "outputs": [],
     "prompt_number": 72
    },
    {
     "cell_type": "code",
     "collapsed": false,
     "input": [
      "element.attrib"
     ],
     "language": "python",
     "metadata": {},
     "outputs": [
      {
       "output_type": "pyout",
       "prompt_number": 76,
       "text": [
        "{'style': 'display: block', 'name': 'U$11', 'package': 'OSHW-LOGO-L', 'value': '', 'library': 'pie', 'y': '32', 'x': '57', 'rot': 'MR270'}"
       ]
      }
     ],
     "prompt_number": 76
    },
    {
     "cell_type": "code",
     "collapsed": false,
     "input": [
      "pq(element)."
     ],
     "language": "python",
     "metadata": {},
     "outputs": [
      {
       "output_type": "pyout",
       "prompt_number": 75,
       "text": [
        "[<element>]"
       ]
      }
     ],
     "prompt_number": 75
    },
    {
     "cell_type": "code",
     "collapsed": false,
     "input": [
      "element.get(\"name\")"
     ],
     "language": "python",
     "metadata": {},
     "outputs": [
      {
       "output_type": "pyout",
       "prompt_number": 70,
       "text": [
        "'U$11'"
       ]
      }
     ],
     "prompt_number": 70
    },
    {
     "cell_type": "code",
     "collapsed": false,
     "input": [
      "element[\"name\"]"
     ],
     "language": "python",
     "metadata": {},
     "outputs": [
      {
       "ename": "TypeError",
       "evalue": "'str' object cannot be interpreted as an index",
       "output_type": "pyerr",
       "traceback": [
        "\u001b[0;31m---------------------------------------------------------------------------\u001b[0m\n\u001b[0;31mTypeError\u001b[0m                                 Traceback (most recent call last)",
        "\u001b[0;32m<ipython-input-69-c62e9fd3b072>\u001b[0m in \u001b[0;36m<module>\u001b[0;34m()\u001b[0m\n\u001b[0;32m----> 1\u001b[0;31m \u001b[0melement\u001b[0m\u001b[0;34m[\u001b[0m\u001b[0;34m\"name\"\u001b[0m\u001b[0;34m]\u001b[0m\u001b[0;34m\u001b[0m\u001b[0m\n\u001b[0m",
        "\u001b[0;32m/usr/lib/python2.7/dist-packages/lxml/etree.so\u001b[0m in \u001b[0;36mlxml.etree._Element.__getitem__ (src/lxml/lxml.etree.c:41994)\u001b[0;34m()\u001b[0m\n",
        "\u001b[0;31mTypeError\u001b[0m: 'str' object cannot be interpreted as an index"
       ]
      }
     ],
     "prompt_number": 69
    },
    {
     "cell_type": "code",
     "collapsed": false,
     "input": [
      "q.find(\"elements\")"
     ],
     "language": "python",
     "metadata": {},
     "outputs": [
      {
       "output_type": "pyout",
       "prompt_number": 49,
       "text": [
        "[]"
       ]
      }
     ],
     "prompt_number": 49
    },
    {
     "cell_type": "code",
     "collapsed": false,
     "input": [
      "io = StringIO()\n",
      "el.getroottree().write(io)\n",
      "# io.getvalue()"
     ],
     "language": "python",
     "metadata": {},
     "outputs": [],
     "prompt_number": 37
    },
    {
     "cell_type": "code",
     "collapsed": false,
     "input": [],
     "language": "python",
     "metadata": {},
     "outputs": [
      {
       "ename": "TypeError",
       "evalue": "'lxml.etree._Element' object is not callable",
       "output_type": "pyerr",
       "traceback": [
        "\u001b[0;31m---------------------------------------------------------------------------\u001b[0m\n\u001b[0;31mTypeError\u001b[0m                                 Traceback (most recent call last)",
        "\u001b[0;32m<ipython-input-38-8ac9f52006bb>\u001b[0m in \u001b[0;36m<module>\u001b[0;34m()\u001b[0m\n\u001b[0;32m----> 1\u001b[0;31m \u001b[0mel\u001b[0m\u001b[0;34m(\u001b[0m\u001b[0;34m\"elements\"\u001b[0m\u001b[0;34m)\u001b[0m\u001b[0;34m\u001b[0m\u001b[0m\n\u001b[0m",
        "\u001b[0;31mTypeError\u001b[0m: 'lxml.etree._Element' object is not callable"
       ]
      }
     ],
     "prompt_number": 38
    },
    {
     "cell_type": "code",
     "collapsed": false,
     "input": [],
     "language": "python",
     "metadata": {},
     "outputs": []
    }
   ],
   "metadata": {}
  }
 ]
}